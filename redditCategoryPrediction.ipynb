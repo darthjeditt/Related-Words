{
 "cells": [
  {
   "attachments": {},
   "cell_type": "markdown",
   "metadata": {},
   "source": [
    "# Related Words Project\n",
    "##### Trai Torti 2023"
   ]
  },
  {
   "attachments": {},
   "cell_type": "markdown",
   "metadata": {},
   "source": [
    "# Import Libraries"
   ]
  },
  {
   "cell_type": "code",
   "execution_count": 31,
   "metadata": {},
   "outputs": [],
   "source": [
    "import nltk\n",
    "from gensim.models import Word2Vec\n",
    "from gensim.models.callbacks import CallbackAny2Vec\n",
    "from sklearn.model_selection import train_test_split\n",
    "from nltk.corpus import reuters, stopwords"
   ]
  },
  {
   "attachments": {},
   "cell_type": "markdown",
   "metadata": {},
   "source": [
    "# Downlad datasets\n",
    "Where using 'reuters' dataset which is a collection of documents and news articles."
   ]
  },
  {
   "cell_type": "code",
   "execution_count": 32,
   "metadata": {},
   "outputs": [
    {
     "name": "stderr",
     "output_type": "stream",
     "text": [
      "[nltk_data] Downloading package reuters to\n",
      "[nltk_data]     C:\\Users\\trai4\\AppData\\Roaming\\nltk_data...\n",
      "[nltk_data]   Package reuters is already up-to-date!\n",
      "[nltk_data] Downloading package punkt to\n",
      "[nltk_data]     C:\\Users\\trai4\\AppData\\Roaming\\nltk_data...\n",
      "[nltk_data]   Package punkt is already up-to-date!\n"
     ]
    },
    {
     "data": {
      "text/plain": [
       "True"
      ]
     },
     "execution_count": 32,
     "metadata": {},
     "output_type": "execute_result"
    }
   ],
   "source": [
    "\n",
    "nltk.download('reuters')\n",
    "nltk.download('punkt')"
   ]
  },
  {
   "attachments": {},
   "cell_type": "markdown",
   "metadata": {},
   "source": [
    "# Preparing the Dataset"
   ]
  },
  {
   "cell_type": "code",
   "execution_count": 33,
   "metadata": {},
   "outputs": [],
   "source": [
    "relatedWords = reuters.sents()"
   ]
  },
  {
   "attachments": {},
   "cell_type": "markdown",
   "metadata": {},
   "source": [
    "# Training the dataset"
   ]
  },
  {
   "cell_type": "code",
   "execution_count": 34,
   "metadata": {},
   "outputs": [],
   "source": [
    "relatedWordsTraining, relatedWordsValidating = train_test_split(\n",
    "    relatedWords,\n",
    "    test_size=0.2,\n",
    "    random_state=42\n",
    ")"
   ]
  },
  {
   "attachments": {},
   "cell_type": "markdown",
   "metadata": {},
   "source": [
    "# Callback function\n",
    "To display the losses after each 'epoch'"
   ]
  },
  {
   "cell_type": "code",
   "execution_count": 35,
   "metadata": {},
   "outputs": [],
   "source": [
    "class callback(CallbackAny2Vec):\n",
    "\n",
    "    def __init__(self):\n",
    "        self.epoch = 0\n",
    "        self.previousStepLoss = 0\n",
    "\n",
    "    def on_epoch_end(self, model):\n",
    "        loss = model.get_latest_training_loss()\n",
    "        if self.epoch == 0:\n",
    "            print(f'Loss after epoch {self.epoch}: {loss}')\n",
    "        else:\n",
    "            print(f'Loss after epoch {self.epoch}: {loss - self.loss_previous_step}')\n",
    "        self.epoch += 1\n",
    "        self.loss_previous_step = loss"
   ]
  },
  {
   "attachments": {},
   "cell_type": "markdown",
   "metadata": {},
   "source": [
    "# Preprocess text function/Train dataset\n",
    "filters out words based on a set criteria and uses it on the trained dataset."
   ]
  },
  {
   "attachments": {},
   "cell_type": "markdown",
   "metadata": {},
   "source": [
    "# Making the model"
   ]
  },
  {
   "cell_type": "code",
   "execution_count": 36,
   "metadata": {},
   "outputs": [
    {
     "name": "stdout",
     "output_type": "stream",
     "text": [
      "Loss after epoch 0: 719619.875\n",
      "Loss after epoch 1: 514684.625\n",
      "Loss after epoch 2: 472199.125\n",
      "Loss after epoch 3: 438992.125\n",
      "Loss after epoch 4: 407450.25\n",
      "Loss after epoch 5: 387206.5\n",
      "Loss after epoch 6: 375513.75\n",
      "Loss after epoch 7: 362128.25\n",
      "Loss after epoch 8: 351304.75\n",
      "Loss after epoch 9: 326715.75\n",
      "Loss after epoch 10: 303959.0\n",
      "Loss after epoch 11: 289186.5\n",
      "Loss after epoch 12: 300060.5\n",
      "Loss after epoch 13: 286737.0\n",
      "Loss after epoch 14: 281775.0\n",
      "Loss after epoch 15: 278679.5\n",
      "Loss after epoch 16: 267033.0\n",
      "Loss after epoch 17: 269270.0\n",
      "Loss after epoch 18: 265215.0\n",
      "Loss after epoch 19: 256214.0\n",
      "Loss after epoch 20: 251421.5\n",
      "Loss after epoch 21: 255347.0\n",
      "Loss after epoch 22: 252583.0\n",
      "Loss after epoch 23: 243549.0\n",
      "Loss after epoch 24: 247495.0\n",
      "Loss after epoch 25: 213470.0\n",
      "Loss after epoch 26: 216275.0\n",
      "Loss after epoch 27: 216400.0\n",
      "Loss after epoch 28: 207521.0\n",
      "Loss after epoch 29: 206168.0\n",
      "Loss after epoch 30: 206836.0\n",
      "Loss after epoch 31: 203768.0\n",
      "Loss after epoch 32: 202258.0\n",
      "Loss after epoch 33: 206451.0\n",
      "Loss after epoch 34: 199491.0\n",
      "Loss after epoch 35: 204394.0\n",
      "Loss after epoch 36: 202287.0\n",
      "Loss after epoch 37: 201333.0\n",
      "Loss after epoch 38: 201867.0\n",
      "Loss after epoch 39: 199242.0\n",
      "Loss after epoch 40: 197756.0\n",
      "Loss after epoch 41: 197245.0\n",
      "Loss after epoch 42: 197052.0\n",
      "Loss after epoch 43: 195565.0\n",
      "Loss after epoch 44: 195001.0\n",
      "Loss after epoch 45: 187953.0\n",
      "Loss after epoch 46: 192791.0\n",
      "Loss after epoch 47: 191383.0\n",
      "Loss after epoch 48: 190352.0\n",
      "Loss after epoch 49: 191976.0\n",
      "Loss after epoch 50: 189928.0\n",
      "Loss after epoch 51: 193332.0\n",
      "Loss after epoch 52: 177671.0\n",
      "Loss after epoch 53: 181862.0\n",
      "Loss after epoch 54: 185434.0\n",
      "Loss after epoch 55: 186003.0\n",
      "Loss after epoch 56: 184982.0\n",
      "Loss after epoch 57: 184946.0\n",
      "Loss after epoch 58: 183075.0\n",
      "Loss after epoch 59: 181553.0\n",
      "Loss after epoch 60: 181909.0\n",
      "Loss after epoch 61: 186099.0\n",
      "Loss after epoch 62: 179975.0\n",
      "Loss after epoch 63: 178138.0\n",
      "Loss after epoch 64: 178801.0\n",
      "Loss after epoch 65: 178247.0\n",
      "Loss after epoch 66: 177750.0\n",
      "Loss after epoch 67: 177113.0\n",
      "Loss after epoch 68: 153063.0\n",
      "Loss after epoch 69: 136674.0\n",
      "Loss after epoch 70: 143302.0\n",
      "Loss after epoch 71: 137626.0\n",
      "Loss after epoch 72: 130324.0\n",
      "Loss after epoch 73: 138354.0\n",
      "Loss after epoch 74: 140838.0\n",
      "Loss after epoch 75: 132446.0\n",
      "Loss after epoch 76: 135184.0\n",
      "Loss after epoch 77: 133852.0\n",
      "Loss after epoch 78: 133934.0\n",
      "Loss after epoch 79: 132416.0\n",
      "Loss after epoch 80: 128064.0\n",
      "Loss after epoch 81: 131502.0\n",
      "Loss after epoch 82: 129740.0\n",
      "Loss after epoch 83: 129280.0\n",
      "Loss after epoch 84: 129210.0\n",
      "Loss after epoch 85: 127134.0\n",
      "Loss after epoch 86: 126320.0\n",
      "Loss after epoch 87: 126342.0\n",
      "Loss after epoch 88: 116128.0\n",
      "Loss after epoch 89: 125064.0\n",
      "Loss after epoch 90: 127276.0\n",
      "Loss after epoch 91: 122630.0\n",
      "Loss after epoch 92: 118834.0\n",
      "Loss after epoch 93: 120810.0\n",
      "Loss after epoch 94: 116022.0\n",
      "Loss after epoch 95: 118442.0\n",
      "Loss after epoch 96: 117334.0\n",
      "Loss after epoch 97: 118194.0\n",
      "Loss after epoch 98: 120184.0\n",
      "Loss after epoch 99: 115432.0\n"
     ]
    }
   ],
   "source": [
    "mdl = Word2Vec(\n",
    "    sentences=relatedWordsTraining,\n",
    "    vector_size=200,\n",
    "    window=3,\n",
    "    min_count=1,\n",
    "    workers=4,\n",
    "    epochs=100,\n",
    "    compute_loss=True,\n",
    "    callbacks=[callback()]\n",
    ")"
   ]
  },
  {
   "attachments": {},
   "cell_type": "markdown",
   "metadata": {},
   "source": [
    "# Saving the model to a file"
   ]
  },
  {
   "cell_type": "code",
   "execution_count": 37,
   "metadata": {},
   "outputs": [],
   "source": [
    "mdl.save('relatedWordsModel')"
   ]
  },
  {
   "cell_type": "code",
   "execution_count": null,
   "metadata": {},
   "outputs": [],
   "source": []
  }
 ],
 "metadata": {
  "kernelspec": {
   "display_name": "Python 3",
   "language": "python",
   "name": "python3"
  },
  "language_info": {
   "codemirror_mode": {
    "name": "ipython",
    "version": 3
   },
   "file_extension": ".py",
   "mimetype": "text/x-python",
   "name": "python",
   "nbconvert_exporter": "python",
   "pygments_lexer": "ipython3",
   "version": "3.11.0"
  },
  "orig_nbformat": 4
 },
 "nbformat": 4,
 "nbformat_minor": 2
}
